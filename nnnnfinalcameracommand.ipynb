{
 "cells": [
  {
   "cell_type": "code",
   "execution_count": null,
   "metadata": {},
   "outputs": [],
   "source": [
    "import sys"
   ]
  },
  {
   "cell_type": "code",
   "execution_count": null,
   "metadata": {},
   "outputs": [],
   "source": [
    "import os\n",
    "os.getcwd()"
   ]
  },
  {
   "cell_type": "code",
   "execution_count": null,
   "metadata": {},
   "outputs": [],
   "source": [
    "os.chdir('E:\\Headland sep 19 peanut')"
   ]
  },
  {
   "cell_type": "code",
   "execution_count": null,
   "metadata": {},
   "outputs": [],
   "source": [
    "import os\n",
    "os.getcwd()"
   ]
  },
  {
   "cell_type": "code",
   "execution_count": null,
   "metadata": {},
   "outputs": [],
   "source": [
    "sys.path"
   ]
  },
  {
   "cell_type": "code",
   "execution_count": null,
   "metadata": {},
   "outputs": [],
   "source": [
    "import import_ipynb"
   ]
  },
  {
   "cell_type": "code",
   "execution_count": null,
   "metadata": {
    "scrolled": true
   },
   "outputs": [],
   "source": [
    "pip install pypylon-opencv-viewer"
   ]
  },
  {
   "cell_type": "code",
   "execution_count": null,
   "metadata": {
    "scrolled": true
   },
   "outputs": [],
   "source": [
    "img_folder = 'Desktop'\n",
    "\n",
    "file_name = \"WG PEANUT 1104.3\"\n",
    "\n",
    "camera_names = ['A', 'B', 'C', 'D', 'E']\n",
    "\n",
    "import os\n",
    "# import config as cfg\n",
    "os.environ[\"PYLON_CAMEMU\"] = \"6\"\n",
    "\n",
    "from pypylon import genicam\n",
    "from pypylon import pylon\n",
    "from PIL import Image\n",
    "\n",
    "from matplotlib import pyplot as plt\n",
    "import sys\n",
    "\n",
    "countOfImagesToGrab = 6\n",
    "maxCamerasToUse = 5\n",
    "\n",
    "# The exit code of the sample application.\n",
    "exitCode = 0\n",
    "\n",
    "try:\n",
    "    # Get the transport layer factory.\n",
    "    tlFactory = pylon.TlFactory.GetInstance()\n",
    "    # Get all attached devices and exit application if no device is found.\n",
    "    devices = tlFactory.EnumerateDevices()\n",
    "    if len(devices) == 0:\n",
    "        raise pylon.RUNTIME_EXCEPTION(\"No camera present.\")\n",
    "\n",
    "    # Create an array of instant cameras for the found devices and avoid exceeding a maximum number of devices.\n",
    "    cameras = pylon.InstantCameraArray(min(len(devices), maxCamerasToUse))\n",
    "    l = cameras.GetSize()\n",
    "    print('Camera num: ', l)\n",
    "\n",
    "    # Create and attach all Pylon Devices.\n",
    "    for i, cam in enumerate(cameras):\n",
    "        cam.Attach(tlFactory.CreateDevice(devices[i]))\n",
    "        \n",
    "        # Print the model name of the camera.\n",
    "        caminfo = cam.GetCameraContext()\n",
    "        print('caminfo: ',caminfo)\n",
    "        print(\"Device model: \", cam.GetDeviceInfo().GetModelName())\n",
    "#         print(\"Using device \", cam.GetDeviceInfo()\n",
    "\n",
    "\n",
    "    cameras.StartGrabbing()\n",
    "\n",
    "    # Grab c_countOfImagesToGrab from the cameras.\n",
    "    for i in range(countOfImagesToGrab):\n",
    "        if not cameras.IsGrabbing():\n",
    "            break\n",
    "\n",
    "        grabResult = cameras.RetrieveResult(5000, pylon.TimeoutHandling_ThrowException)\n",
    "        cameraContextValue = grabResult.GetCameraContext()\n",
    "\n",
    "        # Print the index and the model name of the camera.\n",
    "        print(\"Camera \", cameraContextValue, \": \", cameras[cameraContextValue].GetDeviceInfo().GetModelName())\n",
    "        # Now, the image data can be processed.\n",
    "        print(\"GrabSucceeded: \", grabResult.GrabSucceeded())\n",
    "        print(\"SizeX: \", grabResult.GetWidth())\n",
    "        print(\"SizeY: \", grabResult.GetHeight())\n",
    "\n",
    "        img = grabResult.GetArray()\n",
    "        \n",
    "        \n",
    "        im = Image.fromarray(img)\n",
    "        im.save(img_folder + file_name + camera_names[int(cameraContextValue)] + \".tiff\")\n",
    "        \n",
    "        plt.figure(figsize=(10, 10))\n",
    "        plt.imshow(img, cmap='gray')\n",
    "        plt.show()\n",
    "    \n",
    "    cameras.Close()\n",
    "\n",
    "except genicam.GenericException as e:\n",
    "    # Error handling\n",
    "    print(\"An exception occurred.\", e.GetDescription())\n",
    "    exitCode = 1\n",
    "\n",
    "sys.exit(exitCode)\n"
   ]
  },
  {
   "cell_type": "code",
   "execution_count": null,
   "metadata": {},
   "outputs": [],
   "source": [
    "%tb\n",
    "\n"
   ]
  },
  {
   "cell_type": "code",
   "execution_count": null,
   "metadata": {},
   "outputs": [],
   "source": [
    "from pypylon import pylon \n",
    "\n",
    "# Pypylon get camera by serial number\n",
    "serial_number = '23592807'\n",
    "info = None\n",
    "for i in pylon.TlFactory.GetInstance().EnumerateDevices():\n",
    "    if i.GetSerialNumber() == serial_number:\n",
    "        info = i\n",
    "        break\n",
    "else:\n",
    "    print('Camera with {} serial number not found'.format(serial_number))\n",
    "\n",
    "# VERY IMPORTANT STEP! To use Basler PyPylon OpenCV viewer you have to call .Open() method on you camera\n",
    "if info is not None:\n",
    "    camera = pylon.InstantCamera(pylon.TlFactory.GetInstance().CreateDevice(info))\n",
    "    camera.Open()"
   ]
  },
  {
   "cell_type": "code",
   "execution_count": null,
   "metadata": {},
   "outputs": [],
   "source": [
    "from pypylon_opencv_viewer import BaslerOpenCVViewer\n",
    "viewer = BaslerOpenCVViewer(camera)"
   ]
  },
  {
   "cell_type": "code",
   "execution_count": null,
   "metadata": {},
   "outputs": [],
   "source": [
    "from pypylon import pylon \n",
    "\n",
    "# Pypylon get camera by serial number\n",
    "serial_number = '23592807'\n",
    "info = None\n",
    "for i in pylon.TlFactory.GetInstance().EnumerateDevices():\n",
    "    if i.GetSerialNumber() == serial_number:\n",
    "        info = i\n",
    "        break\n",
    "else:\n",
    "    print('Camera with {} serial number not found'.format(serial_number))\n"
   ]
  },
  {
   "cell_type": "code",
   "execution_count": null,
   "metadata": {},
   "outputs": [],
   "source": []
  }
 ],
 "metadata": {
  "kernelspec": {
   "display_name": "Python 3",
   "language": "python",
   "name": "python3"
  },
  "language_info": {
   "codemirror_mode": {
    "name": "ipython",
    "version": 3
   },
   "file_extension": ".py",
   "mimetype": "text/x-python",
   "name": "python",
   "nbconvert_exporter": "python",
   "pygments_lexer": "ipython3",
   "version": "3.8.3"
  }
 },
 "nbformat": 4,
 "nbformat_minor": 4
}
